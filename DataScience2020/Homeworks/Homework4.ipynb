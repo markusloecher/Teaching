{
 "cells": [
  {
   "cell_type": "markdown",
   "metadata": {},
   "source": [
    "## Homework 4\n",
    "\n",
    "(In the following set $\\alpha = 0.05$, $M=500$)\n",
    "\n",
    "1. Comparing Bootstrap and Permutation Testing\n",
    "    * Generate two arrays of 50 (each) random samples from a normal distribution, each with mean $\\mu_1=\\mu_2=50$, but with different stdevs: $\\sigma_1 = 1, \\sigma_2 = 4$.\n",
    "    * Based on those two samples, test the Null Hypothesis $H_0: \\mu_1=\\mu_2$, $H_A: \\mu_1 \\neq \\mu_2$ in two ways: (i) Bootstrap and (ii) Permutation.\n",
    "    * Repeat the previous two steps (in a loop) $500$ times and save the test decisions in an array. \n",
    "    * Compute the type-I error rates for the two test procedures. Discuss your findings.\n",
    "\n",
    "2. Random Walks\n",
    "    * Adjust the code from the lesson such that you are simulating a **biased** random walk that imitates Web clicks: With probability $p=0.1$ you take a positive step $x=1$ (yes click), and with $p=0.9$ you stay where you are $x=0$ (no click). \"Launch\" $1000$ walkers for $400$ time steps each.\n",
    "    * Write a function that (for each walker) tests the Null Hypothesis $H_0: p \\leq 0.05$, $H_A: p > 0.05$ by applying this rule\n",
    "    $$t = \\frac{\\sqrt{n} \\cdot (\\hat{p}- 0.05)}{\\sqrt{0.05 \\cdot 0.95}} > z_{1- \\alpha} $$ where $\\hat{p} = \\sum x/n$ is the observed proportion of \"ones\" up to time step $n$.\n",
    "    * Compute the type-II error rates for time steps $50$, $100$ and $400$.\n",
    "    * Wouldn't it be nice to deploy an \"early stopping\" rule ? Try out the following strategy: stop the test **at any time** if your test statistic exceeds the threshold $z_{1- \\alpha}$!\n",
    "        * Compute your type-I error at the end of the $400$ time steps and compare to the one you set ($\\alpha$).\n",
    "\n",
    "\n"
   ]
  },
  {
   "cell_type": "code",
   "execution_count": 2,
   "metadata": {},
   "outputs": [],
   "source": [
    "%run ../Lessons/ourFunctions.py"
   ]
  },
  {
   "cell_type": "code",
   "execution_count": null,
   "metadata": {},
   "outputs": [],
   "source": []
  }
 ],
 "metadata": {
  "kernelspec": {
   "display_name": "Python 3",
   "language": "python",
   "name": "python3"
  },
  "language_info": {
   "codemirror_mode": {
    "name": "ipython",
    "version": 3
   },
   "file_extension": ".py",
   "mimetype": "text/x-python",
   "name": "python",
   "nbconvert_exporter": "python",
   "pygments_lexer": "ipython3",
   "version": "3.6.4"
  }
 },
 "nbformat": 4,
 "nbformat_minor": 2
}
