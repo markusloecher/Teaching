{
 "cells": [
  {
   "cell_type": "markdown",
   "metadata": {},
   "source": [
    "## Homework 8\n",
    "\n",
    "In the first problem I want you to think about loss functions for binary data. The second exercise prepares you for the \"multinomial\" case where we have more than 2 categories as outcome.\n",
    "\n",
    "1. Fit a logistic regression `default ~ balance` to a random subset of 1000 rows of the default data from the ISLR library.\n",
    "    * Predict the default probability on a regular array of balance values between on the interval $[0; 3000]$ and plot he resulting sigmoid-shaped curve.\n",
    "    * Find those 4 balances which yield predicted probabilities (closest to) $\\hat{p} = [0.5, 0.05, 0.005, 0.0005]$. \n",
    "    * Overlay these 4 points on the plot with a y value of $default=1$ (yes).\n",
    "    * Compute the following loss functions for each of the four $(y_i, \\hat{p}_i)$ pairs and dicsuss their merits/shortcomings:\n",
    "        * Squared Error: $(y_i - \\hat{p}_i)^2$\n",
    "        * Log Loss: $y_i \\cdot \\log{\\hat{p}_i}$\n",
    "        * Hinge: `np.max(0, 1 - pHat * y)`\n",
    "        * Accuracy: $y_i == (\\hat{p}_i > 0.5)$\n",
    "2. Multiclass logistic regression: The iris data set contains data on 3 flower types: \"setosa\", \"versicolor\", \"virginica\" (coded as integers $0, 1, 2$). \n",
    "    * Fit 3 separate logistic regressions with the binary outcome set to one flower type versus the others.\n",
    "    * How could you combine these 3 models into one ?\n",
    "    * Think about possible shortomings of this \"one verus the rest\" strategy.\n"
   ]
  },
  {
   "cell_type": "code",
   "execution_count": 27,
   "metadata": {},
   "outputs": [],
   "source": [
    "import pandas as pd\n",
    "import numpy as np\n",
    "import matplotlib.pyplot as plt\n",
    "import sklearn.linear_model as skl_lm"
   ]
  },
  {
   "cell_type": "code",
   "execution_count": 12,
   "metadata": {},
   "outputs": [
    {
     "data": {
      "text/plain": [
       "No     967\n",
       "Yes     33\n",
       "Name: default, dtype: int64"
      ]
     },
     "execution_count": 12,
     "metadata": {},
     "output_type": "execute_result"
    }
   ],
   "source": [
    "df = pd.read_excel('../data/Default.xlsx')\n",
    "df = df.sample(n=1000, random_state=1)\n",
    "df[\"default\"].value_counts()"
   ]
  },
  {
   "cell_type": "code",
   "execution_count": 60,
   "metadata": {},
   "outputs": [
    {
     "data": {
      "image/png": "[encoded data removed]",
      "text/plain": [
       "<Figure size 432x288 with 1 Axes>"
      ]
     },
     "metadata": {
      "needs_background": "light"
     },
     "output_type": "display_data"
    }
   ],
   "source": [
    "#add jitter to your plot:\n",
    "N = df.shape[0]\n",
    "df[\"default2\"] = df[\"default\"] == \"Yes\"\n",
    "df[\"defaultJitter\"] = df[\"default2\"] + 0.05*np.random.randn(N)\n",
    "plt.scatter(df[\"balance\"], df[\"defaultJitter\"],s = 2.5, alpha=0.35)\n",
    "plt.xlabel('balance')\n",
    "plt.ylabel('default')\n",
    "plt.title('Default versus balance')\n",
    "#plt.legend(['specificity', 'sensitivity'],fontsize=14)\n",
    "plt.show();"
   ]
  },
  {
   "cell_type": "markdown",
   "metadata": {},
   "source": [
    "### Multinomial LR\n",
    "\n",
    "The iris data:"
   ]
  },
  {
   "cell_type": "code",
   "execution_count": 54,
   "metadata": {},
   "outputs": [
    {
     "data": {
      "text/plain": [
       "array([0, 1, 2])"
      ]
     },
     "execution_count": 54,
     "metadata": {},
     "output_type": "execute_result"
    }
   ],
   "source": [
    "from sklearn import datasets\n",
    "\n",
    "iris = datasets.load_iris()\n",
    "flowerType=[\"setosa\", \"versicolor\", \"virginica\"]\n",
    "\n",
    "np.unique(iris[\"target\"])"
   ]
  },
  {
   "cell_type": "code",
   "execution_count": null,
   "metadata": {},
   "outputs": [],
   "source": []
  }
 ],
 "metadata": {
  "kernelspec": {
   "display_name": "Python 3",
   "language": "python",
   "name": "python3"
  },
  "language_info": {
   "codemirror_mode": {
    "name": "ipython",
    "version": 3
   },
   "file_extension": ".py",
   "mimetype": "text/x-python",
   "name": "python",
   "nbconvert_exporter": "python",
   "pygments_lexer": "ipython3",
   "version": "3.6.4"
  }
 },
 "nbformat": 4,
 "nbformat_minor": 2
}
