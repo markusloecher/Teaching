{
 "cells": [
  {
   "cell_type": "markdown",
   "metadata": {},
   "source": [
    "## Homework 7\n",
    "\n",
    "1. Following our discussion/confusion on the `r2_score`: think about the shortcomings of using the squared correlation coefficient as a quality of fit measure. Construct a few simple examples, that highlight, why `np.corrcoef(y_test,yHat)**2` would be a very poor choice.\n",
    "\n",
    "2. Look up the sklearn help file for [PolynomialFeatures](https://scikit-learn.org/stable/modules/generated/sklearn.preprocessing.PolynomialFeatures.html#sklearn.preprocessing.PolynomialFeatures) and translate the statsmodel from below into the corresponding sklearn version, using `LinearRegression()` only.\n",
    "3. Look up the `patsy` help file for [dmatrix](https://patsy.readthedocs.io/en/latest/formulas.html#redundancy-and-categorical-factors) and translate the statsmodel from below into the corresponding sklearn version, using `LinearRegression()` only.\n",
    "\n",
    "4. Estimate the *10-fold* CV error on this model.\n",
    "\n"
   ]
  },
  {
   "cell_type": "code",
   "execution_count": 3,
   "metadata": {},
   "outputs": [],
   "source": [
    "import pandas as pd\n",
    "from sklearn.linear_model import LinearRegression\n",
    "from sklearn.metrics import mean_squared_error, r2_score\n",
    "#import statsmodels.api as sm\n",
    "import statsmodels.formula.api as smf\n",
    "import patsy\n",
    "\n",
    "from sklearn.model_selection import cross_val_score\n",
    "import numpy as np\n",
    "from sklearn.preprocessing import PolynomialFeatures"
   ]
  },
  {
   "cell_type": "code",
   "execution_count": 4,
   "metadata": {},
   "outputs": [],
   "source": [
    "boston = pd.read_csv('../data/boston.csv')\n",
    "\n",
    "#X = boston.drop('medv', axis=1)\n",
    "y = boston['medv'].values\n",
    "#boston.head()"
   ]
  },
  {
   "cell_type": "code",
   "execution_count": 5,
   "metadata": {},
   "outputs": [
    {
     "data": {
      "text/html": [
       "<table class=\"simpletable\">\n",
       "<tr>\n",
       "        <td></td>          <th>coef</th>     <th>std err</th>      <th>t</th>      <th>P>|t|</th>  <th>[0.025</th>    <th>0.975]</th>  \n",
       "</tr>\n",
       "<tr>\n",
       "  <th>Intercept</th>    <td>  -29.8113</td> <td>    3.268</td> <td>   -9.121</td> <td> 0.000</td> <td>  -36.233</td> <td>  -23.390</td>\n",
       "</tr>\n",
       "<tr>\n",
       "  <th>C(chas)[T.1]</th> <td>    3.2168</td> <td>    0.803</td> <td>    4.006</td> <td> 0.000</td> <td>    1.639</td> <td>    4.795</td>\n",
       "</tr>\n",
       "<tr>\n",
       "  <th>lstat</th>        <td>    2.2458</td> <td>    0.201</td> <td>   11.170</td> <td> 0.000</td> <td>    1.851</td> <td>    2.641</td>\n",
       "</tr>\n",
       "<tr>\n",
       "  <th>rm</th>           <td>    9.6980</td> <td>    0.489</td> <td>   19.843</td> <td> 0.000</td> <td>    8.738</td> <td>   10.658</td>\n",
       "</tr>\n",
       "<tr>\n",
       "  <th>lstat:rm</th>     <td>   -0.4818</td> <td>    0.034</td> <td>  -14.346</td> <td> 0.000</td> <td>   -0.548</td> <td>   -0.416</td>\n",
       "</tr>\n",
       "<tr>\n",
       "  <th>crim</th>         <td>   -0.1138</td> <td>    0.027</td> <td>   -4.278</td> <td> 0.000</td> <td>   -0.166</td> <td>   -0.062</td>\n",
       "</tr>\n",
       "</table>"
      ],
      "text/plain": [
       "<class 'statsmodels.iolib.table.SimpleTable'>"
      ]
     },
     "execution_count": 5,
     "metadata": {},
     "output_type": "execute_result"
    }
   ],
   "source": [
    "model = smf.ols('medv ~ lstat*rm + C(chas) + crim ', boston).fit()\n",
    "model.summary().tables[1]"
   ]
  },
  {
   "cell_type": "code",
   "execution_count": null,
   "metadata": {},
   "outputs": [],
   "source": []
  }
 ],
 "metadata": {
  "kernelspec": {
   "display_name": "Python 3",
   "language": "python",
   "name": "python3"
  },
  "language_info": {
   "codemirror_mode": {
    "name": "ipython",
    "version": 3
   },
   "file_extension": ".py",
   "mimetype": "text/x-python",
   "name": "python",
   "nbconvert_exporter": "python",
   "pygments_lexer": "ipython3",
   "version": "3.6.4"
  }
 },
 "nbformat": 4,
 "nbformat_minor": 2
}
