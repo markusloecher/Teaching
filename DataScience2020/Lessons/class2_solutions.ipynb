{
 "cells": [
  {
   "cell_type": "markdown",
   "metadata": {},
   "source": [
    "### Class 2\n",
    "\n",
    "1. Taking Samples\n",
    "    * Variation of samples \n",
    "    * The $1/\\sqrt{n}$ law\n",
    "2. Distributions\n",
    "    * densities\n",
    "    * ecdfs\n",
    "3. Parametric (\"analytic\") versus nonparametric (\"hacker statistics\")\n",
    "    * Confidence Intervals\n",
    "    * Testing\n",
    "4. Resampling\n",
    "    * Permutations\n",
    "    * Bootstrap\n",
    "    "
   ]
  },
  {
   "cell_type": "code",
   "execution_count": 1,
   "metadata": {},
   "outputs": [],
   "source": [
    "import numpy as np\n",
    "import matplotlib.pyplot as plt\n",
    "import pandas as pd\n",
    "\n",
    "from numpy import random \n",
    "random.seed(42)#What is this for ???"
   ]
  },
  {
   "cell_type": "code",
   "execution_count": 2,
   "metadata": {},
   "outputs": [
    {
     "data": {
      "text/html": [
       "<div>\n",
       "<style scoped>\n",
       "    .dataframe tbody tr th:only-of-type {\n",
       "        vertical-align: middle;\n",
       "    }\n",
       "\n",
       "    .dataframe tbody tr th {\n",
       "        vertical-align: top;\n",
       "    }\n",
       "\n",
       "    .dataframe thead th {\n",
       "        text-align: right;\n",
       "    }\n",
       "</style>\n",
       "<table border=\"1\" class=\"dataframe\">\n",
       "  <thead>\n",
       "    <tr style=\"text-align: right;\">\n",
       "      <th></th>\n",
       "      <th>sex</th>\n",
       "      <th>dbirwt</th>\n",
       "    </tr>\n",
       "  </thead>\n",
       "  <tbody>\n",
       "    <tr>\n",
       "      <th>0</th>\n",
       "      <td>male</td>\n",
       "      <td>2551</td>\n",
       "    </tr>\n",
       "    <tr>\n",
       "      <th>1</th>\n",
       "      <td>male</td>\n",
       "      <td>2778</td>\n",
       "    </tr>\n",
       "    <tr>\n",
       "      <th>2</th>\n",
       "      <td>female</td>\n",
       "      <td>2976</td>\n",
       "    </tr>\n",
       "    <tr>\n",
       "      <th>3</th>\n",
       "      <td>female</td>\n",
       "      <td>3345</td>\n",
       "    </tr>\n",
       "    <tr>\n",
       "      <th>4</th>\n",
       "      <td>female</td>\n",
       "      <td>3175</td>\n",
       "    </tr>\n",
       "  </tbody>\n",
       "</table>\n",
       "</div>"
      ],
      "text/plain": [
       "      sex  dbirwt\n",
       "0    male    2551\n",
       "1    male    2778\n",
       "2  female    2976\n",
       "3  female    3345\n",
       "4  female    3175"
      ]
     },
     "execution_count": 2,
     "metadata": {},
     "output_type": "execute_result"
    }
   ],
   "source": [
    "# birth weight data\n",
    "df = pd.read_csv('../data/BirthWeights.csv')[[\"sex\", \"dbirwt\"]]\n",
    "df.head()"
   ]
  },
  {
   "cell_type": "markdown",
   "metadata": {},
   "source": [
    "## Operator Overloading\n",
    "\n",
    "The [] operator is overloaded. This means, that depending on the inputs, pandas will do something completely different. Here are the rules for the different objects you pass to just the indexing operator.\n",
    "\n",
    "* string — return a column as a Series\n",
    "* list of strings — return all those columns as a DataFrame\n",
    "* a slice — select rows (can do both label and integer location — confusing!)\n",
    "* a sequence of booleans — select all rows where True\n",
    "\n",
    "In summary, primarily just the indexing operator selects columns, but if you pass it a sequence of booleans it will select all rows that are `True`."
   ]
  },
  {
   "cell_type": "code",
   "execution_count": 39,
   "metadata": {},
   "outputs": [],
   "source": [
    "df = df[(df[ \"dbirwt\"] < 6000) & (df[ \"dbirwt\"] > 2000)]"
   ]
  },
  {
   "cell_type": "markdown",
   "metadata": {},
   "source": [
    "Boxplot of weight vs. sex"
   ]
  },
  {
   "cell_type": "code",
   "execution_count": 8,
   "metadata": {},
   "outputs": [
    {
     "data": {
      "text/html": [
       "<div>\n",
       "<style scoped>\n",
       "    .dataframe tbody tr th:only-of-type {\n",
       "        vertical-align: middle;\n",
       "    }\n",
       "\n",
       "    .dataframe tbody tr th {\n",
       "        vertical-align: top;\n",
       "    }\n",
       "\n",
       "    .dataframe thead th {\n",
       "        text-align: right;\n",
       "    }\n",
       "</style>\n",
       "<table border=\"1\" class=\"dataframe\">\n",
       "  <thead>\n",
       "    <tr style=\"text-align: right;\">\n",
       "      <th></th>\n",
       "      <th>dbirwt</th>\n",
       "    </tr>\n",
       "  </thead>\n",
       "  <tbody>\n",
       "    <tr>\n",
       "      <th>count</th>\n",
       "      <td>5000.00000</td>\n",
       "    </tr>\n",
       "    <tr>\n",
       "      <th>mean</th>\n",
       "      <td>3463.59540</td>\n",
       "    </tr>\n",
       "    <tr>\n",
       "      <th>std</th>\n",
       "      <td>657.36107</td>\n",
       "    </tr>\n",
       "    <tr>\n",
       "      <th>min</th>\n",
       "      <td>481.00000</td>\n",
       "    </tr>\n",
       "    <tr>\n",
       "      <th>25%</th>\n",
       "      <td>3118.00000</td>\n",
       "    </tr>\n",
       "    <tr>\n",
       "      <th>50%</th>\n",
       "      <td>3459.00000</td>\n",
       "    </tr>\n",
       "    <tr>\n",
       "      <th>75%</th>\n",
       "      <td>3827.00000</td>\n",
       "    </tr>\n",
       "    <tr>\n",
       "      <th>max</th>\n",
       "      <td>9999.00000</td>\n",
       "    </tr>\n",
       "  </tbody>\n",
       "</table>\n",
       "</div>"
      ],
      "text/plain": [
       "           dbirwt\n",
       "count  5000.00000\n",
       "mean   3463.59540\n",
       "std     657.36107\n",
       "min     481.00000\n",
       "25%    3118.00000\n",
       "50%    3459.00000\n",
       "75%    3827.00000\n",
       "max    9999.00000"
      ]
     },
     "execution_count": 8,
     "metadata": {},
     "output_type": "execute_result"
    },
    {
     "data": {
      "image/png": "[encoded data removed]",
      "text/plain": [
       "<Figure size 432x288 with 1 Axes>"
      ]
     },
     "metadata": {
      "needs_background": "light"
     },
     "output_type": "display_data"
    }
   ],
   "source": [
    "tmp=df.boxplot( \"dbirwt\",\"sex\")\n",
    "df.describe()"
   ]
  },
  {
   "cell_type": "markdown",
   "metadata": {},
   "source": [
    "We notice a small difference in the average weight, which is more clearly visible when we plot overlaying densities for male/female "
   ]
  },
  {
   "cell_type": "code",
   "execution_count": 45,
   "metadata": {},
   "outputs": [
    {
     "name": "stdout",
     "output_type": "stream",
     "text": [
      "sex\n",
      "female    3427.0\n",
      "male      3533.0\n",
      "Name: dbirwt, dtype: float64\n"
     ]
    },
    {
     "data": {
      "text/plain": [
       "3480.0"
      ]
     },
     "execution_count": 45,
     "metadata": {},
     "output_type": "execute_result"
    },
    {
     "data": {
      "image/png": "[encoded data removed]",
      "text/plain": [
       "<Figure size 432x288 with 1 Axes>"
      ]
     },
     "metadata": {
      "needs_background": "light"
     },
     "output_type": "display_data"
    }
   ],
   "source": [
    "tmp=df[[\"dbirwt\",\"sex\"]].groupby(\"sex\")[\"dbirwt\"].plot(kind='density', legend=True)\n",
    "bwghtBySex = np.round(df[[\"dbirwt\",\"sex\"]].groupby(\"sex\")[\"dbirwt\"].mean(),0)\n",
    "print(bwghtBySex)\n",
    "bwghtBySex.mean()"
   ]
  },
  {
   "cell_type": "markdown",
   "metadata": {},
   "source": [
    "## A/B Testing\n",
    "\n",
    "Let us hypothesize that one wanted to classify babies into male/female solely based on their weight. What would its accuracy be if we applied the following simple rule:\n",
    "\n",
    "if dbirwt > 3480 y = male else y = female\n",
    "\n",
    "This would be the equivalent of testing for global warming by measuring the temperature on **one** day. We all know that it took a long time (= many samples) to reliably detect a small difference like 0.5 degrees buried in the noise. Let us apply the same idea here. Maybe we can build a high-accuracy classifier if we weighed enough babies separately for each sex. "
   ]
  },
  {
   "cell_type": "code",
   "execution_count": 7,
   "metadata": {},
   "outputs": [
    {
     "data": {
      "text/html": [
       "<div>\n",
       "<style scoped>\n",
       "    .dataframe tbody tr th:only-of-type {\n",
       "        vertical-align: middle;\n",
       "    }\n",
       "\n",
       "    .dataframe tbody tr th {\n",
       "        vertical-align: top;\n",
       "    }\n",
       "\n",
       "    .dataframe thead th {\n",
       "        text-align: right;\n",
       "    }\n",
       "</style>\n",
       "<table border=\"1\" class=\"dataframe\">\n",
       "  <thead>\n",
       "    <tr style=\"text-align: right;\">\n",
       "      <th>sex</th>\n",
       "      <th>female</th>\n",
       "      <th>male</th>\n",
       "    </tr>\n",
       "    <tr>\n",
       "      <th>predMale</th>\n",
       "      <th></th>\n",
       "      <th></th>\n",
       "    </tr>\n",
       "  </thead>\n",
       "  <tbody>\n",
       "    <tr>\n",
       "      <th>False</th>\n",
       "      <td>1367</td>\n",
       "      <td>1149</td>\n",
       "    </tr>\n",
       "    <tr>\n",
       "      <th>True</th>\n",
       "      <td>1107</td>\n",
       "      <td>1377</td>\n",
       "    </tr>\n",
       "  </tbody>\n",
       "</table>\n",
       "</div>"
      ],
      "text/plain": [
       "sex       female  male\n",
       "predMale              \n",
       "False       1367  1149\n",
       "True        1107  1377"
      ]
     },
     "execution_count": 7,
     "metadata": {},
     "output_type": "execute_result"
    }
   ],
   "source": [
    "#Confusion Matrix for simple classifier:\n",
    "df[\"predMale\"] = df[\"dbirwt\"] > 3480\n",
    "pd.crosstab(df[\"predMale\"], df[\"sex\"])\n"
   ]
  },
  {
   "cell_type": "code",
   "execution_count": 9,
   "metadata": {},
   "outputs": [
    {
     "name": "stdout",
     "output_type": "stream",
     "text": [
      "Accuracy of lame classifier: 0.5488\n"
     ]
    }
   ],
   "source": [
    "Acc0 = (1367+1377)/5000\n",
    "print(\"Accuracy of lame classifier:\", Acc0)\n",
    "#Think about the baseline accuracy"
   ]
  },
  {
   "cell_type": "markdown",
   "metadata": {},
   "source": [
    "\n",
    "\n",
    "#### Tasks\n",
    "\n",
    "Write a function which\n",
    "\n",
    "1. draws repeated (e.g. M=500) random samples of size n (e.g. 40, 640) from each sex from the data\n",
    "2. Computes the stdevs for the sample means of each sex separately\n",
    "3. Repeats the above density plot for the sample mean distributions\n",
    "4. computes the confusion matrix/accuracy of a classifier that applies the rule $\\bar{x} > 3480$.   \n",
    "   \n"
   ]
  },
  {
   "cell_type": "code",
   "execution_count": 48,
   "metadata": {},
   "outputs": [
    {
     "data": {
      "text/plain": [
       "array([3742, 2636], dtype=int64)"
      ]
     },
     "execution_count": 48,
     "metadata": {},
     "output_type": "execute_result"
    }
   ],
   "source": [
    "#Hint1\n",
    "np.random.choice(df[\"dbirwt\"],2)"
   ]
  },
  {
   "cell_type": "code",
   "execution_count": 4,
   "metadata": {},
   "outputs": [],
   "source": [
    "def mean_density_comparison(df_cleaned, M=500, n=10):\n",
    "    \n",
    "    #Generate an sex iteration array\n",
    "    sex_iter = ['male', 'female']\n",
    "    \n",
    "    #Create an empty DataFrame with 'sex' and 'dbirwt' column\n",
    "    columns = ['sex', 'dbirwt']\n",
    "    df_new = pd.DataFrame(columns=columns)\n",
    "    \n",
    "    #Create an empty array to store the standard deviation of the differnt sex 'male' = std_dev[0], 'female' = std_dev[1]\n",
    "    std_dev = np.empty(2)\n",
    "    \n",
    "    #Iterate over sex and create a specific data subset\n",
    "    for ind,v in enumerate(sex_iter):\n",
    "        subset = df_cleaned[df_cleaned.sex == v]\n",
    "        \n",
    "        #create M random sample means of n samples and add it to df_new\n",
    "        for i in range(M):\n",
    "            rand_samples = np.random.choice(subset.dbirwt, n)\n",
    "            x = np.mean(rand_samples)#sample mean per sex\n",
    "            df_new.loc[len(df_new)+1] = [v, x]\n",
    "        \n",
    "        #plot male and female data and calculate the standard deviation of the data\n",
    "        plot_data = df_new[df_new.sex == v]\n",
    "        std_dev[ind] = np.std(plot_data['dbirwt'])  \n",
    "        \n",
    "        plot_data.dbirwt.plot.density()\n",
    "        plt.xlabel('dbirwt')\n",
    "        plt.legend(sex_iter)\n",
    "\t\t#plt.grid()\n",
    "\t\t#plt.title(\"n=\" + str(n))\n",
    "\t\t\n",
    "    #return the sample mean data\n",
    "    return df_new\n",
    " \n",
    "        \n",
    "\n"
   ]
  },
  {
   "cell_type": "code",
   "execution_count": 5,
   "metadata": {},
   "outputs": [
    {
     "name": "stdout",
     "output_type": "stream",
     "text": [
      "n=640, means: sex\n",
      "female    3419.941850\n",
      "male      3507.383041\n",
      "Name: dbirwt, dtype: float64\n",
      "n=640, SESMs: sex\n",
      "female    25.488923\n",
      "male      25.544047\n",
      "Name: dbirwt, dtype: float64\n",
      "n=40, means: sex\n",
      "female    3420.65260\n",
      "male      3513.25225\n",
      "Name: dbirwt, dtype: float64\n",
      "n=40, SESMs: sex\n",
      "female     98.584900\n",
      "male      104.953466\n",
      "Name: dbirwt, dtype: float64\n"
     ]
    },
    {
     "data": {
      "image/png": "[encoded data removed]",
      "text/plain": [
       "<Figure size 432x288 with 1 Axes>"
      ]
     },
     "metadata": {
      "needs_background": "light"
     },
     "output_type": "display_data"
    },
    {
     "data": {
      "image/png": "[encoded data removed]",
      "text/plain": [
       "<Figure size 432x288 with 1 Axes>"
      ]
     },
     "metadata": {
      "needs_background": "light"
     },
     "output_type": "display_data"
    }
   ],
   "source": [
    "#Test the function\n",
    "SM40 = mean_density_comparison(df, M=500, n=40)\n",
    "plt.figure()\n",
    "SM640 = mean_density_comparison(df, M=500, n=640)\n",
    "\n",
    "grouped640 = SM640[\"dbirwt\"].groupby(SM40[\"sex\"])\n",
    "print(\"n=640, means:\", grouped640.mean())\n",
    "print(\"n=640, SESMs:\", grouped640.std())\n",
    "\n",
    "SM40.head()\n",
    "grouped40 = SM40[\"dbirwt\"].groupby(SM40[\"sex\"])\n",
    "print(\"n=40, means:\", grouped40.mean())\n",
    "print(\"n=40, SESMs:\", grouped40.std())"
   ]
  },
  {
   "cell_type": "markdown",
   "metadata": {},
   "source": [
    "How much smaller is $\\sigma_{\\bar{x},640}$ than $\\sigma_{\\bar{x},40}$ ?\n",
    "Compare that factor to the ratio of the sample sizes $640/40 = 16$\n"
   ]
  },
  {
   "cell_type": "markdown",
   "metadata": {},
   "source": [
    "The density -like a histogram- has a few complications that include the arbitrary choice of bin width (kernel width for density) and the loss of information. Welcome to the *empirical cumulative distribution function* **ecdf**"
   ]
  },
  {
   "cell_type": "code",
   "execution_count": 23,
   "metadata": {},
   "outputs": [],
   "source": [
    "def ecdf(data):\n",
    "    \"\"\"Compute ECDF for a one-dimensional array of measurements.\"\"\"\n",
    "\n",
    "    # Number of data points: n\n",
    "    n = len(data)\n",
    "\n",
    "    # x-data for the ECDF: x\n",
    "    x = np.sort(data)\n",
    "\n",
    "    # y-data for the ECDF: y\n",
    "    y = np.arange(1, n+1) / n\n",
    "\n",
    "    return x, y\n"
   ]
  },
  {
   "cell_type": "code",
   "execution_count": 58,
   "metadata": {},
   "outputs": [
    {
     "data": {
      "image/png": "[encoded data removed]",
      "text/plain": [
       "<Figure size 432x288 with 1 Axes>"
      ]
     },
     "metadata": {
      "needs_background": "light"
     },
     "output_type": "display_data"
    }
   ],
   "source": [
    "male40 = SM40[SM40.sex == \"male\"].dbirwt\n",
    "female40 = SM40[SM40.sex == \"female\"].dbirwt\n",
    "# Compute ECDF for sample size 40: m_40, f_40\n",
    "mx_40, my_40 = ecdf(male40)\n",
    "fx_40, fy_40 = ecdf(female40)\n",
    "\n",
    "# Plot all ECDFs on the same plot\n",
    "_ = plt.plot(mx_40, my_40, marker = '.', linestyle = 'none')\n",
    "_ = plt.plot(fx_40, fy_40, marker = '.', linestyle = 'none')\n",
    "\n",
    "# Make nice margins\n",
    "plt.margins(0.02)\n",
    "\n",
    "# Annotate the plot\n",
    "plt.legend(('male', 'female'), loc='lower right')\n",
    "_ = plt.xlabel('birth weight(g)')\n",
    "_ = plt.ylabel('ECDF')\n",
    "\n",
    "# Display the plot\n",
    "plt.grid()\n",
    "plt.show()"
   ]
  },
  {
   "cell_type": "markdown",
   "metadata": {},
   "source": [
    "- What is the relationship to quantiles/percentiles ?\n",
    "- Find the IQR !\n",
    "- Sketch the densities just from the ecdf."
   ]
  },
  {
   "cell_type": "markdown",
   "metadata": {},
   "source": [
    "### Checking Normality of sample mean distribution"
   ]
  },
  {
   "cell_type": "code",
   "execution_count": 59,
   "metadata": {},
   "outputs": [
    {
     "data": {
      "image/png": "[encoded data removed]",
      "text/plain": [
       "<Figure size 432x288 with 1 Axes>"
      ]
     },
     "metadata": {
      "needs_background": "light"
     },
     "output_type": "display_data"
    }
   ],
   "source": [
    "# Compute mean and standard deviation: mu, sigma\n",
    "mu = np.mean(male40)\n",
    "sigma = np.std(male40)\n",
    "\n",
    "# Sample out of a normal distribution with this mu and sigma: samples\n",
    "samples = np.random.normal(mu, sigma, 10000)\n",
    "\n",
    "# Get the CDF of the samples and of the data\n",
    "x_theor, y_theor = ecdf(samples)\n",
    "\n",
    "# Plot the CDFs and show the plot\n",
    "_ = plt.plot(mx_40, my_40, marker='.', linestyle='none')\n",
    "_ = plt.plot(x_theor, y_theor)\n",
    "plt.margins(0.02)\n",
    "_ = plt.xlabel('birth weight (g)')\n",
    "_ = plt.ylabel('CDF')\n",
    "\n",
    "plt.grid()\n",
    "plt.show()\n"
   ]
  },
  {
   "cell_type": "markdown",
   "metadata": {},
   "source": []
  },
  {
   "cell_type": "markdown",
   "metadata": {},
   "source": [
    "### Tasks\n",
    "1. Find the \"5% tails\" which are just the (0.05, 0.95) quantiles \n",
    "2. Read up on theoretical quantiles: https://docs.scipy.org/doc/scipy/reference/generated/scipy.stats.norm.html#scipy.stats.norm\n",
    "3. stone age: get the \"5% tails\" from a normal table.\n",
    "4. How many stdevs do you need to cover the 90% sample interval ?\n",
    "5. Can you replace the \"empirical theoretical cdf\" from above with the exact line without sampling 10000 random numbers from a normal distribution ?\n"
   ]
  },
  {
   "cell_type": "markdown",
   "metadata": {},
   "source": [
    "--------------------------------------------------------------\n",
    "Let us recap what we observed when sampling from a \"population\": The *sample mean distribution* gets narrower with increasing sample size n, SESM =$\\sigma_{\\bar{x}} = \\sigma/\\sqrt{n}$.\n",
    "Take a look at this [interactive applet](http://onlinestatbook.com/stat_sim/sampling_dist/) for further understanding.\n",
    "\n",
    "How is this useful ? And how is it relevant because in reality we would only have **one sample**, not hundreds !\n",
    "\n",
    "#### Small Tasks\n",
    "\n",
    "1. Choose one random sample of size n=40 from the male babies and compute $\\bar{x}$, $\\hat{\\sigma}$. Assume all that is known to you, are these two *summary statistics*. In particular, we do **not know** the true mean $\\mu$!\n",
    "2. Argue intuitively with the ecdf plot about plausible values of $\\mu$.\n",
    "3. More precisely: what interval around $\\bar{x}$ would contain $\\mu$ with 90% probability ?\n"
   ]
  },
  {
   "cell_type": "markdown",
   "metadata": {},
   "source": [
    "### Hacker Statistic\n",
    "\n",
    "The ability to draw new samples from a population with a known mean is a luxury that we usually do not have. Is there any way to \"fake\" new samples using just the one \"lousy\" sample we have at hand ? \n",
    "This might sound like an impossible feat analogously to \"pulling yourself up by your own **bootstraps**\"!\n",
    "\n",
    "![BootstrapIlustration](figures/DC_bootstrap_animated.gif  \"segment\")\n",
    "\n",
    "But that is exactly what we will try now:\n",
    "\n",
    "\n",
    "Tasks\n",
    "0. Look up the help for *np.random.choice()* https://docs.scipy.org/doc/numpy-1.15.0/reference/generated/numpy.random.choice.html\n",
    "1. Draw repeated samples of size n=40 from the sample above.\n",
    "2. Compute the mean of each sample and store it an array.\n",
    "3. Plot the histogram\n",
    "4. Compute the stdev of this distribution and compare to the SEM.\n",
    "5. Write a function that computes *bootstrap replicates* of the mean from a sample.\n",
    "6. Generalize this function to accept any summary statistic, not just the mean."
   ]
  },
  {
   "cell_type": "code",
   "execution_count": null,
   "metadata": {},
   "outputs": [],
   "source": [
    "def draw_bs_reps_mean(data, size=100):\n",
    "    \"\"\"Draw bootstrap replicates.\"\"\"\n",
    "\n",
    "    # Initialize array of replicates: bs_replicates\n",
    "    bs_replicates = np.empty(size)\n",
    "\n",
    "    # Generate replicates\n",
    "    for i in range(size):\n",
    "        bs_replicates[i] = np.mean(np.random.choice(data, size=len(data)))\n",
    "\n",
    "    return bs_replicates\n"
   ]
  },
  {
   "cell_type": "code",
   "execution_count": 16,
   "metadata": {},
   "outputs": [],
   "source": [
    "def draw_bs_reps(data, func = np.mean, size=100):\n",
    "    \"\"\"Draw bootstrap replicates.\"\"\"\n",
    "\n",
    "    # Initialize array of replicates: bs_replicates\n",
    "    bs_replicates = np.empty(size)\n",
    "\n",
    "    # Generate replicates\n",
    "    for i in range(size):\n",
    "        bs_replicates[i] = bootstrap_replicate_1d(data, func)\n",
    "\n",
    "    return bs_replicates\n",
    "\n",
    "def bootstrap_replicate_1d(data, func):\n",
    "    return func(np.random.choice(data, size=len(data)))"
   ]
  },
  {
   "cell_type": "code",
   "execution_count": 19,
   "metadata": {},
   "outputs": [
    {
     "data": {
      "text/plain": [
       "array([4337, 2552, 3651, 3797, 3713, 4156, 3884, 2551, 3430, 3146, 4592,\n",
       "       3742, 3685, 3239, 3855, 3798, 2636, 3167, 2780, 3260, 4025, 2636,\n",
       "       4053, 3203, 3883, 4025, 3090, 3005, 3628, 2637, 3430, 3146, 3487,\n",
       "       3827, 3543, 3940, 3061, 3600, 3380, 4620], dtype=int64)"
      ]
     },
     "execution_count": 19,
     "metadata": {},
     "output_type": "execute_result"
    }
   ],
   "source": [
    "subset = df[df.sex == \"male\"]\n",
    "rand_samples_40 = np.random.choice(subset.dbirwt, 40)\n",
    "xBar = np.mean(rand_samples_40)\n",
    "rand_samples_40"
   ]
  },
  {
   "cell_type": "code",
   "execution_count": 20,
   "metadata": {},
   "outputs": [],
   "source": [
    "# Take 1,000 bootstrap replicates of the mean: bs_replicates\n",
    "bs_replicates = draw_bs_reps(rand_samples_40, np.mean, size=1000)"
   ]
  },
  {
   "cell_type": "code",
   "execution_count": 21,
   "metadata": {},
   "outputs": [
    {
     "data": {
      "text/plain": [
       "array([3505.   , 3556.575, 3487.525, 3331.925, 3548.525, 3489.075,\n",
       "       3611.2  , 3594.475, 3436.575, 3403.425])"
      ]
     },
     "execution_count": 21,
     "metadata": {},
     "output_type": "execute_result"
    }
   ],
   "source": [
    "bs_replicates[0:10]"
   ]
  },
  {
   "cell_type": "code",
   "execution_count": 24,
   "metadata": {},
   "outputs": [
    {
     "data": {
      "image/png": "[encoded data removed]",
      "text/plain": [
       "<Figure size 432x288 with 1 Axes>"
      ]
     },
     "metadata": {
      "needs_background": "light"
     },
     "output_type": "display_data"
    }
   ],
   "source": [
    "fx_40, fy_40 = ecdf(bs_replicates)\n",
    "\n",
    "# Plot  ECDF\n",
    "_ = plt.plot(fx_40, fy_40, marker = '.', linestyle = 'none')\n",
    "\n",
    "# Make nice margins\n",
    "plt.margins(0.02)\n",
    "\n",
    "# Annotate the plot\n",
    "_ = plt.xlabel('resampled averages of birth weight(g)')\n",
    "_ = plt.ylabel('ECDF')\n",
    "\n",
    "# Display the plot\n",
    "plt.grid()\n",
    "plt.show()"
   ]
  },
  {
   "cell_type": "markdown",
   "metadata": {},
   "source": [
    "#### Bootstrap replicates of other statistics\n",
    "\n",
    "The mean is just one of many sample summaries that we might be interested in. \n",
    "Recall the Auto data, in particular the boxplot of mpg ~ cylinders. The graph suggested that not only does the mean mpg seems too decrease with number of cylinders but also the variance.\n",
    "Let us get **confidence intervals** of the stdev for cyl = 4 and compare to cyl=6. \n",
    "\n",
    "**Tasks**\n",
    "- Generate bootstrap replicates for the stdev of the mpg and plot the histograms and ecdfs of the replicates.\n",
    "- Argue intuitively whether the stdevs are clearly different."
   ]
  },
  {
   "cell_type": "markdown",
   "metadata": {},
   "source": [
    "#### Upcoming Topics\n",
    "\n",
    "- Linear Regression and bootstrap\n",
    "    * intercept and slope\n",
    "    * software reports\n",
    "- Permutation tests\n",
    "    * one-sample vs. 2-samples\n",
    "    * compare with parametric t-test\n",
    "- Binomial Processes\n",
    "    * Brownian Motion\n",
    "    * Variance/Mean\n",
    "    * Risk as a function of size\n"
   ]
  },
  {
   "cell_type": "code",
   "execution_count": null,
   "metadata": {},
   "outputs": [],
   "source": []
  }
 ],
 "metadata": {
  "kernelspec": {
   "display_name": "Python 3",
   "language": "python",
   "name": "python3"
  },
  "language_info": {
   "codemirror_mode": {
    "name": "ipython",
    "version": 3
   },
   "file_extension": ".py",
   "mimetype": "text/x-python",
   "name": "python",
   "nbconvert_exporter": "python",
   "pygments_lexer": "ipython3",
   "version": "3.6.4"
  }
 },
 "nbformat": 4,
 "nbformat_minor": 2
}
